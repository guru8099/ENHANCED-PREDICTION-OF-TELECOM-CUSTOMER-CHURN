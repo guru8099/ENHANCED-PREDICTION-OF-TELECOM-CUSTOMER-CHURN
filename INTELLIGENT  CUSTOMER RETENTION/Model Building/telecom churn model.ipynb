{
 "cells": [
  {
   "cell_type": "code",
   "execution_count": null,
   "metadata": {},
   "outputs": [],
   "source": [
    "import pandas as pd\n",
    "import numpy as np\n",
    "import matplotlib.pyplot as plt\n",
    "import seaborn as sns\n",
    "\n",
    "from imblearn.over_sampling import SMOTE\n",
    "from sklearn.model_selection import train_test_split\n",
    "from sklearn.preprocessing import StandardScaler, MinMaxScaler\n",
    "from sklearn.linear_model import LogisticRegression\n",
    "from sklearn.metrics import confusion_matrix\n",
    "from sklearn.feature_selection import RFE\n",
    "from sklearn import metrics\n",
    "from sklearn.metrics import precision_recall_curve, classification_report\n",
    "import statsmodels.api as sm\n",
    "from statsmodels.stats.outliers_influence import variance_inflation_factor\n",
    "from sklearn.tree import DecisionTreeClassifier\n",
    "from sklearn.model_selection import GridSearchCV\n",
    "from sklearn.metrics import plot_roc_curve\n",
    "from sklearn.ensemble import RandomForestClassifier\n",
    "\n",
    "\n",
    "sns.set_style(\"darkgrid\")\n",
    "sns.color_palette()\n",
    "import warnings\n",
    "warnings.filterwarnings('ignore')"
   ]
  },
  {
   "cell_type": "code",
   "execution_count": null,
   "metadata": {},
   "outputs": [],
   "source": [
    "#Importing Dataset\n",
    "teldata = pd.read_csv('../input/telecom-churn/telecom_churn_data.csv')"
   ]
  },
  {
   "cell_type": "code",
   "execution_count": null,
   "metadata": {},
   "outputs": [],
   "source": [
    "pd.set_option(\"display.max_columns\", 300)\n",
    "pd.set_option(\"display.max_rows\", 300)\n",
    "teldata.head()"
   ]
  },
  {
   "cell_type": "code",
   "execution_count": null,
   "metadata": {},
   "outputs": [],
   "source": [
    "teldata.shape"
   ]
  },
  {
   "cell_type": "code",
   "execution_count": null,
   "metadata": {},
   "outputs": [],
   "source": [
    "teldata.describe(include='all')"
   ]
  },
  {
   "cell_type": "code",
   "execution_count": null,
   "metadata": {},
   "outputs": [],
   "source": [
    "missingdata = pd.DataFrame(teldata.isnull().sum()*100/teldata.shape[0])\n",
    "missingdata.reset_index(inplace=True)\n",
    "missingdata.rename(columns={'index':'Feature',0:'Missing%'}, inplace=True)"
   ]
  },
  {
   "cell_type": "code",
   "execution_count": null,
   "metadata": {},
   "outputs": [],
   "source": [
    "missingdata.sort_values(by='Missing%', ascending=False)"
   ]
  },
  {
   "cell_type": "code",
   "execution_count": null,
   "metadata": {},
   "outputs": [],
   "source": [
    "missingdata[missingdata['Missing%']>0].count()"
   ]
  },
  {
   "cell_type": "code",
   "execution_count": null,
   "metadata": {},
   "outputs": [],
   "source": [
    "rech_columns = teldata.columns[teldata.columns.str.contains('rech_data|rech_amt')]\n",
    "rech_columns"
   ]
  },
  {
   "cell_type": "code",
   "execution_count": null,
   "metadata": {},
   "outputs": [],
   "source": [
    "teldata.loc[:, rech_columns].describe()"
   ]
  },
  {
   "cell_type": "code",
   "execution_count": null,
   "metadata": {},
   "outputs": [],
   "source": [
    "#Imputing missing values/NaNs with 0s\n",
    "teldata[rech_columns] = teldata[rech_columns].apply(lambda x: x.fillna(0)) "
   ]
  },
  {
   "cell_type": "code",
   "execution_count": null,
   "metadata": {},
   "outputs": [],
   "source": [
    "missingdata = pd.DataFrame(teldata.isnull().sum()*100/teldata.shape[0])\n",
    "missingdata.reset_index(inplace=True)\n",
    "missingdata.rename(columns={'index':'Feature',0:'Missing%'}, inplace=True)"
   ]
  },
  {
   "cell_type": "code",
   "execution_count": null,
   "metadata": {},
   "outputs": [],
   "source": [
    "missingdata[missingdata['Missing%']>0].count()"
   ]
  },
  {
   "cell_type": "code",
   "execution_count": null,
   "metadata": {},
   "outputs": [],
   "source": [
    "# Dropping columns with missing values > 30% threshold\n",
    "cols_to_drop = missingdata[missingdata['Missing%'] >=30]\n",
    "cols_to_drop"
   ]
  },
  {
   "cell_type": "code",
   "execution_count": null,
   "metadata": {},
   "outputs": [],
   "source": [
    "cols_drop = cols_to_drop.Feature.values\n",
    "cols_drop"
   ]
  },
  {
   "cell_type": "code",
   "execution_count": null,
   "metadata": {},
   "outputs": [],
   "source": [
    "teldata.drop(columns= cols_drop, axis=1, inplace=True)"
   ]
  },
  {
   "cell_type": "code",
   "execution_count": null,
   "metadata": {},
   "outputs": [],
   "source": [
    "final_missingdata = pd.DataFrame(teldata.isnull().sum()*100/teldata.shape[0])\n",
    "final_missingdata.reset_index(inplace=True)\n",
    "final_missingdata.rename(columns={'index':'Feature',0:'Missing%'}, inplace=True)\n",
    "final_missingdata.sort_values(by='Missing%', ascending=False)"
   ]
  },
  {
   "cell_type": "code",
   "execution_count": null,
   "metadata": {},
   "outputs": [],
   "source": [
    "teldata.shape"
   ]
  },
  {
   "cell_type": "code",
   "execution_count": null,
   "metadata": {},
   "outputs": [],
   "source": [
    "# Dropping unwanted columns\n",
    "date_cols = ['circle_id','last_date_of_month_6','last_date_of_month_7','last_date_of_month_8','last_date_of_month_9','date_of_last_rech_6','date_of_last_rech_7','date_of_last_rech_8','date_of_last_rech_9','date_of_last_rech_data_6','date_of_last_rech_data_7','date_of_last_rech_data_8','date_of_last_rech_data_9']\n",
    "teldata.drop(date_cols, axis=1, inplace=True)"
   ]
  },
  {
   "cell_type": "code",
   "execution_count": null,
   "metadata": {},
   "outputs": [],
   "source": [
    "final_missingdata = pd.DataFrame(teldata.isnull().sum()*100/teldata.shape[0])\n",
    "final_missingdata.reset_index(inplace=True)\n",
    "final_missingdata.rename(columns={'index':'Feature',0:'Missing%'}, inplace=True)\n",
    "final_missingdata.sort_values(by='Missing%', ascending=False)"
   ]
  },
  {
   "cell_type": "code",
   "execution_count": null,
   "metadata": {},
   "outputs": [],
   "source": [
    "teldata.shape"
   ]
  },
  {
   "cell_type": "code",
   "execution_count": null,
   "metadata": {},
   "outputs": [],
   "source": [
    "teldata.head()"
   ]
  },
  {
   "cell_type": "code",
   "execution_count": null,
   "metadata": {},
   "outputs": [],
   "source": [
    "# Imputing remaining missing values with median values of their respective columns\n",
    "remaining_missing_Values_cols = final_missingdata[final_missingdata['Missing%']>0].Feature.values\n",
    "for i in remaining_missing_Values_cols:\n",
    "    teldata[i] = teldata[i].fillna(teldata[i].median())"
   ]
  },
  {
   "cell_type": "code",
   "execution_count": null,
   "metadata": {},
   "outputs": [],
   "source": [
    "teldata.head()"
   ]
  },
  {
   "cell_type": "code",
   "execution_count": null,
   "metadata": {},
   "outputs": [],
   "source": [
    "final_missingdata = pd.DataFrame(teldata.isnull().sum()*100/teldata.shape[0])\n",
    "final_missingdata.reset_index(inplace=True)\n",
    "final_missingdata.rename(columns={'index':'Feature',0:'Missing%'}, inplace=True)\n",
    "final_missingdata.sort_values(by='Missing%', ascending=False)"
   ]
  },
  {
   "cell_type": "code",
   "execution_count": null,
   "metadata": {},
   "outputs": [],
   "source": [
    "teldata.info(verbose=1)"
   ]
  },
  {
   "cell_type": "code",
   "execution_count": null,
   "metadata": {},
   "outputs": [],
   "source": [
    "teldata.shape"
   ]
  },
  {
   "cell_type": "code",
   "execution_count": null,
   "metadata": {},
   "outputs": [],
   "source": [
    "#calculating total data recharge amount\n",
    "teldata['total_data_rech_6'] = teldata.total_rech_data_6 * teldata.av_rech_amt_data_6\n",
    "teldata['total_data_rech_7'] = teldata.total_rech_data_7 * teldata.av_rech_amt_data_7"
   ]
  },
  {
   "cell_type": "code",
   "execution_count": null,
   "metadata": {},
   "outputs": [],
   "source": [
    "# adding 'total_data_rech' + 'total_rech_amt'\n",
    "teldata['amt_data_6'] = teldata.total_data_rech_6 + teldata.total_rech_amt_6\n",
    "teldata['amt_data_7'] = teldata.total_data_rech_7 + teldata.total_rech_amt_7"
   ]
  },
  {
   "cell_type": "code",
   "execution_count": null,
   "metadata": {},
   "outputs": [],
   "source": [
    "# calculating average amount of june and july\n",
    "teldata['av_amt_data_6_7']=(teldata.amt_data_6 + teldata.amt_data_7)/2"
   ]
  },
  {
   "cell_type": "code",
   "execution_count": null,
   "metadata": {},
   "outputs": [],
   "source": [
    "# finding the 70th Percentile of avg recharge amount of june/july('good phase')\n",
    "high_value = teldata.av_amt_data_6_7.quantile(0.70)\n",
    "print(\"The Value of recharge amount at 70th percentile: \", high_value)"
   ]
  },
  {
   "cell_type": "code",
   "execution_count": null,
   "metadata": {},
   "outputs": [],
   "source": [
    "highvaldata = teldata.loc[teldata.av_amt_data_6_7 >= high_value,:]\n",
    "highvaldata = highvaldata.reset_index(drop=True)\n",
    "highvaldata.shape"
   ]
  },
  {
   "cell_type": "code",
   "execution_count": null,
   "metadata": {},
   "outputs": [],
   "source": [
    "#drop features created for arriving at high value customers\n",
    "highvaldata = highvaldata.drop(columns=['total_data_rech_6','total_data_rech_7','amt_data_6','amt_dat','av_amt_data_6_7'], axis=1)\n",
    "highvaldata.shape"
   ]
  },
  {
   "cell_type": "code",
   "execution_count": null,
   "metadata": {},
   "outputs": [],
   "source": [
    "# computing incoming and outgoing usage\n",
    "highvaldata['total_ic_og_mou_9'] = highvaldata.total_ic_mou_9 + highvaldata.total_og_mou_9\n",
    "\n",
    "#computing 2g & 3g data usage\n",
    "highvaldata['total_2g_3g_mb_9'] = highvaldata.vol_2g_mb_9 + highvaldata.vol_3g_mb_9"
   ]
  },
  {
   "cell_type": "code",
   "execution_count": null,
   "metadata": {},
   "outputs": [],
   "source": [
    "# creating 'churn' variable: Where the customers who have not used any data and calling services in september are said to be churned\n",
    "highvaldata['churn'] = highvaldata.apply(lambda x: 1 if(x.total_ic_og_mou_9==0 and x.total_2g_3g_mb_9==0) else 0, axis=1)"
   ]
  },
  {
   "cell_type": "code",
   "execution_count": null,
   "metadata": {},
   "outputs": [],
   "source": [
    "# drop computed columns\n",
    "highvaldata.drop(columns=['total_ic_og_mou_9','total_2g_3g_mb_9'], axis=1, inplace=True)"
   ]
  },
  {
   "cell_type": "code",
   "execution_count": null,
   "metadata": {},
   "outputs": [],
   "source": [
    "highvaldata.shape"
   ]
  },
  {
   "cell_type": "code",
   "execution_count": null,
   "metadata": {},
   "outputs": [],
   "source": [
    "# Capping the outliers for all numeric columns to cap for >Q1 &<Q3 , where Q1 & Q3 are top & bottom 1%.\n",
    "numeric_columns = highvaldata.iloc[:,2:].columns\n",
    "for i in numeric_columns:\n",
    "    Q1 = highvaldata[i].quantile(0.01)\n",
    "    Q3= highvaldata[i].quantile(0.99)\n",
    "    IQR = Q3-Q1\n",
    "    highvaldata = highvaldata.loc[(highvaldata[i]>= Q1-1.5*IQR) & (highvaldata[i]<=Q3+1.5*IQR)]"
   ]
  },
  {
   "cell_type": "code",
   "execution_count": null,
   "metadata": {},
   "outputs": [],
   "source": [
    "highvaldata.shape"
   ]
  },
  {
   "cell_type": "code",
   "execution_count": null,
   "metadata": {},
   "outputs": [],
   "source": [
    "# Inspecting Churn ratio\n",
    "churn_ratio = pd.DataFrame(highvaldata.churn.value_counts(normalize=True)*100)\n",
    "churn_ratio['churn_value']=[0,1]\n",
    "sns.barplot(x=churn_ratio['churn_value'], y=churn_ratio.churn)\n",
    "plt.show()"
   ]
  },
  {
   "cell_type": "code",
   "execution_count": null,
   "metadata": {},
   "outputs": [],
   "source": [
    "churn_ratio"
   ]
  },
  {
   "cell_type": "code",
   "execution_count": null,
   "metadata": {},
   "outputs": [],
   "source": [
    "# Dropping columns related to 9th month after tagging churners\n",
    "sept_columns = highvaldata.columns[highvaldata.columns.str.contains('_9')]\n",
    "sept_columns"
   ]
  },
  {
   "cell_type": "code",
   "execution_count": null,
   "metadata": {},
   "outputs": [],
   "source": [
    "highvaldata.drop(columns=sept_columns, axis=1, inplace=True)"
   ]
  },
  {
   "cell_type": "code",
   "execution_count": null,
   "metadata": {},
   "outputs": [],
   "source": [
    "# dropping sep_vbc_3g column\n",
    "highvaldata.drop(columns=['sep_vbc_3g'], axis=1, inplace=True)"
   ]
  },
  {
   "cell_type": "code",
   "execution_count": null,
   "metadata": {},
   "outputs": [],
   "source": [
    "highvaldata.shape"
   ]
  },
  {
   "cell_type": "code",
   "execution_count": null,
   "metadata": {},
   "outputs": [],
   "source": [
    "# data type conversions\n",
    "highvaldata['mobile_number'] = highvaldata['mobile_number'].astype(object)\n",
    "highvaldata['churn'] = highvaldata['churn'].astype(object)"
   ]
  },
  {
   "cell_type": "code",
   "execution_count": null,
   "metadata": {},
   "outputs": [],
   "source": [
    "highvaldata.head()"
   ]
  },
  {
   "cell_type": "code",
   "execution_count": null,
   "metadata": {},
   "outputs": [],
   "source": [
    "# Derived Variable - 1 : Deriving AON(Age on Network)/365 to get Customer tenurity interms of years.\n",
    "highvaldata['aon_Years'] = highvaldata['aon'].apply(lambda x : round((x/365),1))"
   ]
  },
  {
   "cell_type": "code",
   "execution_count": null,
   "metadata": {},
   "outputs": [],
   "source": [
    "# Derived Variable - 2: Total_loc_MOU(Minutes of Usage) (local_incoming_mou+local_outgoing_mou)\n",
    "for i in range(6,9):\n",
    "    highvaldata['Total_loc_mou_'+str(i)] = (highvaldata['loc_ic_mou_'+str(i)])+(highvaldata['loc_og_mou_'+str(i)])"
   ]
  },
  {
   "cell_type": "code",
   "execution_count": null,
   "metadata": {},
   "outputs": [],
   "source": [
    "# Derived Variable - 3: Total_roam_MOU(Minutes of USage) ( roaming_incoming_mou+roaming_outgoing_mou)\n",
    "for i in range(6,9):\n",
    "    highvaldata['Total_roam_mou_'+str(i)] = (highvaldata['roam_ic_mou_'+str(i)])+(highvaldata['roam_og_mou_'+str(i)])"
   ]
  },
  {
   "cell_type": "code",
   "execution_count": null,
   "metadata": {},
   "outputs": [],
   "source": [
    "highvaldata.head()"
   ]
  },
  {
   "cell_type": "code",
   "execution_count": null,
   "metadata": {},
   "outputs": [],
   "source": [
    "highvaldata.info(verbose=1)"
   ]
  },
  {
   "cell_type": "code",
   "execution_count": null,
   "metadata": {},
   "outputs": [],
   "source": [
    "def uni(col1, col2, title):\n",
    "    plt.figure(figsize=[20,10])\n",
    "    plt.subplot(2,1,1)\n",
    "    plt.title(title+'\\n', fontdict={'size':20})\n",
    "    sns.distplot(highvaldata[col1])\n",
    "    plt.subplot(2,1,2)\n",
    "    sns.distplot(highvaldata[col2])\n",
    "    plt.tight_layout()\n",
    "    plt.show()"
   ]
  },
  {
   "cell_type": "code",
   "execution_count": null,
   "metadata": {},
   "outputs": [],
   "source": [
    "uni('total_og_mou_6','total_ic_mou_6',\"Outgoing Vs Incoming - 6\")"
   ]
  },
  {
   "cell_type": "code",
   "execution_count": null,
   "metadata": {},
   "outputs": [],
   "source": [
    "uni('total_og_mou_7','total_ic_mou_7',\"Outgoing Vs Incoming - 7\")"
   ]
  },
  {
   "cell_type": "code",
   "execution_count": null,
   "metadata": {},
   "outputs": [],
   "source": [
    "uni('total_og_mou_8','total_ic_mou_8',\"Outgoing Vs Incoming - 8\")"
   ]
  },
  {
   "cell_type": "code",
   "execution_count": null,
   "metadata": {},
   "outputs": [],
   "source": [
    "uni('total_rech_amt_6','max_rech_data_6',\"Calls Recharge Vs Internet Recharge - 6\")"
   ]
  },
  {
   "cell_type": "code",
   "execution_count": null,
   "metadata": {},
   "outputs": [],
   "source": [
    "uni('total_rech_amt_7','max_rech_data_7',\"Calls Recharge Vs Internet Recharge - 7\")"
   ]
  },
  {
   "cell_type": "code",
   "execution_count": null,
   "metadata": {},
   "outputs": [],
   "source": [
    "uni('total_rech_amt_8','max_rech_data_8',\"Calls Recharge Vs Internet Recharge - 8\")"
   ]
  },
  {
   "cell_type": "code",
   "execution_count": null,
   "metadata": {},
   "outputs": [],
   "source": [
    "plt.figure(figsize=[20,10])\n",
    "plt.subplot(3,1,1)\n",
    "plt.title('Total_times_recharge - 6\\n', fontdict={'size':20})\n",
    "sns.distplot(highvaldata['total_rech_num_6'])\n",
    "plt.subplot(3,1,2)\n",
    "plt.title('Total_times_recharge - 7\\n', fontdict={'size':20})\n",
    "sns.distplot(highvaldata['total_rech_num_7'])\n",
    "plt.subplot(3,1,3)\n",
    "plt.title('Total_times_recharge - 8\\n', fontdict={'size':20})\n",
    "sns.distplot(highvaldata['total_rech_num_8'])\n",
    "plt.tight_layout()\n",
    "plt.show()"
   ]
  },
  {
   "cell_type": "code",
   "execution_count": null,
   "metadata": {},
   "outputs": [],
   "source": [
    "plt.figure(figsize=[20,10])\n",
    "plt.subplot(3,1,1)\n",
    "plt.title('Average_Recharge_Amount - 6\\n', fontdict={'size':20})\n",
    "sns.distplot(highvaldata['av_rech_amt_data_6'])\n",
    "plt.subplot(3,1,2)\n",
    "plt.title('Average_Recharge_Amount - 7\\n', fontdict={'size':20})\n",
    "sns.distplot(highvaldata['av_rech_amt_data_7'])\n",
    "plt.subplot(3,1,3)\n",
    "plt.title('Average_Recharge_Amount - 8\\n', fontdict={'size':20})\n",
    "sns.distplot(highvaldata['av_rech_amt_data_8'])\n",
    "plt.tight_layout()\n",
    "plt.show()"
   ]
  },
  {
   "cell_type": "code",
   "execution_count": null,
   "metadata": {},
   "outputs": [],
   "source": [
    "plt.figure(figsize=[20,10])\n",
    "plt.title('Tenurity of Customer in the Existing Network\\n', fontdict={'size':20})\n",
    "sns.distplot(highvaldata['aon_Years'])\n",
    "plt.xticks(size=15)\n",
    "plt.tight_layout()\n",
    "plt.show()"
   ]
  },
  {
   "cell_type": "code",
   "execution_count": null,
   "metadata": {},
   "outputs": [],
   "source": [
    "def bivariate(colx,col6,col7,col8,title):\n",
    "    plt.figure(figsize=[12,6])\n",
    "    \n",
    "    plt.subplot(1,3,1)\n",
    "    plt.suptitle(title+'\\n', fontsize=20)\n",
    "    gplot1 = sns.barplot(x=highvaldata[colx], y=highvaldata[col6])\n",
    "    for p in gplot1.patches:\n",
    "        gplot1.annotate(round((p.get_height()),2),#text that you want to write on top\n",
    "        (p.get_x() + p.get_width() / 2., p.get_height()),# coordinates where text should be there\n",
    "        ha = 'center', va = 'center',size=12,# alignment of the text\n",
    "        xytext = (0, 10),# distance of text from top of the patch\n",
    "        textcoords = 'offset points'), #do not change and remove it\n",
    "    \n",
    "    \n",
    "    \n",
    "    \n",
    "    plt.subplot(1,3,2)\n",
    "    gplot2 = sns.barplot(x=highvaldata[colx], y=highvaldata[col7])\n",
    "    for p in gplot2.patches:\n",
    "        gplot2.annotate(round((p.get_height()),2),#text that you want to write on top\n",
    "        (p.get_x() + p.get_width() / 2., p.get_height()),# coordinates where text should be there\n",
    "        ha = 'center', va = 'center',size=12,# alignment of the text\n",
    "        xytext = (0, 10),# distance of text from top of the patch\n",
    "        textcoords = 'offset points'), #do not change and remove it\n",
    "    \n",
    "    \n",
    "    plt.subplot(1,3,3)\n",
    "    gplot3 = sns.barplot(x=highvaldata[colx], y=highvaldata[col8])\n",
    "    for p in gplot3.patches:\n",
    "        gplot3.annotate(round((p.get_height()),2),#text that you want to write on top\n",
    "        (p.get_x() + p.get_width() / 2., p.get_height()),# coordinates where text should be there\n",
    "        ha = 'center', va = 'center',size=12,# alignment of the text\n",
    "        xytext = (0, 10),# distance of text from top of the patch\n",
    "        textcoords = 'offset points'), #do not change and remove it\n",
    "    \n",
    "\n",
    "\n",
    "    \n",
    "    \n",
    "    plt.tight_layout()\n",
    "    plt.show()"
   ]
  },
  {
   "cell_type": "code",
   "execution_count": null,
   "metadata": {},
   "outputs": [],
   "source": [
    "bivariate('churn', 'total_ic_mou_6','total_ic_mou_7','total_ic_mou_8','Total Incoming calls - (6,7,8) Vs Churn')"
   ]
  },
  {
   "cell_type": "code",
   "execution_count": null,
   "metadata": {},
   "outputs": [],
   "source": [
    "bivariate('churn', 'total_og_mou_6','total_og_mou_7','total_og_mou_8','Total Outgoing calls - (6,7,8) Vs Churn')"
   ]
  },
  {
   "cell_type": "code",
   "execution_count": null,
   "metadata": {},
   "outputs": [],
   "source": [
    "bivariate('churn', 'total_rech_num_6','total_rech_num_7','total_rech_num_8','Total Times Recharged - (6,7,8) Vs Churn')"
   ]
  },
  {
   "cell_type": "code",
   "execution_count": null,
   "metadata": {},
   "outputs": [],
   "source": [
    "bivariate('churn', 'total_rech_amt_6','total_rech_amt_7','total_rech_amt_8','Total Recharge(Calls) Amount - (6,7,8) Vs Churn')"
   ]
  },
  {
   "cell_type": "code",
   "execution_count": null,
   "metadata": {},
   "outputs": [],
   "source": [
    "bivariate('churn', 'av_rech_amt_data_6','av_rech_amt_data_7','av_rech_amt_data_8','Average Internet Recharge Amount - (6,7,8) Vs Churn')"
   ]
  }
 ],
 "metadata": {
  "language_info": {
   "name": "python"
  },
  "orig_nbformat": 4
 },
 "nbformat": 4,
 "nbformat_minor": 2
}
